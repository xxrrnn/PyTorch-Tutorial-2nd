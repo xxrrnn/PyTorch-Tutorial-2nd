{
 "cells": [
  {
   "cell_type": "code",
   "execution_count": 1,
   "metadata": {},
   "outputs": [],
   "source": [
    "import time\n",
    "import torch\n",
    "import numpy as np\n",
    "from torchvision import models"
   ]
  },
  {
   "cell_type": "code",
   "execution_count": 2,
   "metadata": {},
   "outputs": [],
   "source": [
    "mode_list = \"default reduce-overhead max-autotune\".split()\n",
    "device = torch.device(\"cuda\" if torch.cuda.is_available() else \"cpu\")"
   ]
  },
  {
   "cell_type": "markdown",
   "metadata": {},
   "source": [
    "# 实验一：sin函数"
   ]
  },
  {
   "cell_type": "code",
   "execution_count": 3,
   "metadata": {},
   "outputs": [
    {
     "ename": "RuntimeError",
     "evalue": "Windows not yet supported for torch.compile",
     "output_type": "error",
     "traceback": [
      "\u001b[1;31m------------------\u001b[0m",
      "\u001b[1;31mRuntimeError\u001b[0mTraceback (most recent call last)",
      "Cell \u001b[1;32mIn[3], line 9\u001b[0m\n\u001b[0;32m      7\u001b[0m torch\u001b[38;5;241m.\u001b[39mcuda\u001b[38;5;241m.\u001b[39msynchronize()\n\u001b[0;32m      8\u001b[0m time_0 \u001b[38;5;241m=\u001b[39m time\u001b[38;5;241m.\u001b[39mtime()\n\u001b[1;32m----> 9\u001b[0m module_compiled \u001b[38;5;241m=\u001b[39m \u001b[43mtorch\u001b[49m\u001b[38;5;241;43m.\u001b[39;49m\u001b[43mcompile\u001b[49m\u001b[43m(\u001b[49m\u001b[43msin_func\u001b[49m\u001b[43m,\u001b[49m\u001b[43m \u001b[49m\u001b[43mmode\u001b[49m\u001b[38;5;241;43m=\u001b[39;49m\u001b[43mmode\u001b[49m\u001b[43m)\u001b[49m\n\u001b[0;32m     10\u001b[0m torch\u001b[38;5;241m.\u001b[39mcuda\u001b[38;5;241m.\u001b[39msynchronize()\n\u001b[0;32m     11\u001b[0m time_1 \u001b[38;5;241m=\u001b[39m time\u001b[38;5;241m.\u001b[39mtime()\n",
      "File \u001b[1;32mE:\\anaconda3\\envs\\d2l\\lib\\site-packages\\torch\\__init__.py:1441\u001b[0m, in \u001b[0;36mcompile\u001b[1;34m(model, fullgraph, dynamic, backend, mode, options, disable)\u001b[0m\n\u001b[0;32m   1439\u001b[0m \u001b[38;5;28;01mif\u001b[39;00m backend \u001b[38;5;241m==\u001b[39m \u001b[38;5;124m\"\u001b[39m\u001b[38;5;124minductor\u001b[39m\u001b[38;5;124m\"\u001b[39m:\n\u001b[0;32m   1440\u001b[0m     backend \u001b[38;5;241m=\u001b[39m _TorchCompileInductorWrapper(mode, options, dynamic)\n\u001b[1;32m-> 1441\u001b[0m \u001b[38;5;28;01mreturn\u001b[39;00m \u001b[43mtorch\u001b[49m\u001b[38;5;241;43m.\u001b[39;49m\u001b[43m_dynamo\u001b[49m\u001b[38;5;241;43m.\u001b[39;49m\u001b[43moptimize\u001b[49m\u001b[43m(\u001b[49m\u001b[43mbackend\u001b[49m\u001b[38;5;241;43m=\u001b[39;49m\u001b[43mbackend\u001b[49m\u001b[43m,\u001b[49m\u001b[43m \u001b[49m\u001b[43mnopython\u001b[49m\u001b[38;5;241;43m=\u001b[39;49m\u001b[43mfullgraph\u001b[49m\u001b[43m,\u001b[49m\u001b[43m \u001b[49m\u001b[43mdynamic\u001b[49m\u001b[38;5;241;43m=\u001b[39;49m\u001b[43mdynamic\u001b[49m\u001b[43m,\u001b[49m\u001b[43m \u001b[49m\u001b[43mdisable\u001b[49m\u001b[38;5;241;43m=\u001b[39;49m\u001b[43mdisable\u001b[49m\u001b[43m)\u001b[49m(model)\n",
      "File \u001b[1;32mE:\\anaconda3\\envs\\d2l\\lib\\site-packages\\torch\\_dynamo\\eval_frame.py:413\u001b[0m, in \u001b[0;36moptimize\u001b[1;34m(backend, nopython, guard_export_fn, guard_fail_fn, disable, dynamic)\u001b[0m\n\u001b[0;32m    380\u001b[0m \u001b[38;5;28;01mdef\u001b[39;00m \u001b[38;5;21moptimize\u001b[39m(\n\u001b[0;32m    381\u001b[0m     backend\u001b[38;5;241m=\u001b[39m\u001b[38;5;124m\"\u001b[39m\u001b[38;5;124minductor\u001b[39m\u001b[38;5;124m\"\u001b[39m,\n\u001b[0;32m    382\u001b[0m     \u001b[38;5;241m*\u001b[39m,\n\u001b[1;32m   (...)\u001b[0m\n\u001b[0;32m    387\u001b[0m     dynamic\u001b[38;5;241m=\u001b[39m\u001b[38;5;28;01mFalse\u001b[39;00m,\n\u001b[0;32m    388\u001b[0m ):\n\u001b[0;32m    389\u001b[0m \u001b[38;5;250m    \u001b[39m\u001b[38;5;124;03m\"\"\"\u001b[39;00m\n\u001b[0;32m    390\u001b[0m \u001b[38;5;124;03m    The main entrypoint of TorchDynamo.  Do graph capture and call\u001b[39;00m\n\u001b[0;32m    391\u001b[0m \u001b[38;5;124;03m    backend() to optimize extracted graphs.\u001b[39;00m\n\u001b[1;32m   (...)\u001b[0m\n\u001b[0;32m    411\u001b[0m \u001b[38;5;124;03m            ...\u001b[39;00m\n\u001b[0;32m    412\u001b[0m \u001b[38;5;124;03m    \"\"\"\u001b[39;00m\n\u001b[1;32m--> 413\u001b[0m     \u001b[43mcheck_if_dynamo_supported\u001b[49m\u001b[43m(\u001b[49m\u001b[43m)\u001b[49m\n\u001b[0;32m    414\u001b[0m     \u001b[38;5;66;03m# Note: The hooks object could be global instead of passed around, *however* that would make\u001b[39;00m\n\u001b[0;32m    415\u001b[0m     \u001b[38;5;66;03m# for a confusing API usage and plumbing story wherein we nest multiple .optimize calls.\u001b[39;00m\n\u001b[0;32m    416\u001b[0m     \u001b[38;5;66;03m# There is some prior art around this, w/r/t nesting backend calls are enforced to be the same\u001b[39;00m\n\u001b[0;32m    417\u001b[0m     \u001b[38;5;66;03m# compiler, however, this feels onerous for callback and hooks, and it feels better to give our users an\u001b[39;00m\n\u001b[0;32m    418\u001b[0m     \u001b[38;5;66;03m# easier to understand UX at the cost of a little more plumbing on our end.\u001b[39;00m\n\u001b[0;32m    419\u001b[0m     hooks \u001b[38;5;241m=\u001b[39m Hooks(guard_export_fn\u001b[38;5;241m=\u001b[39mguard_export_fn, guard_fail_fn\u001b[38;5;241m=\u001b[39mguard_fail_fn)\n",
      "File \u001b[1;32mE:\\anaconda3\\envs\\d2l\\lib\\site-packages\\torch\\_dynamo\\eval_frame.py:375\u001b[0m, in \u001b[0;36mcheck_if_dynamo_supported\u001b[1;34m()\u001b[0m\n\u001b[0;32m    373\u001b[0m \u001b[38;5;28;01mdef\u001b[39;00m \u001b[38;5;21mcheck_if_dynamo_supported\u001b[39m():\n\u001b[0;32m    374\u001b[0m     \u001b[38;5;28;01mif\u001b[39;00m sys\u001b[38;5;241m.\u001b[39mplatform \u001b[38;5;241m==\u001b[39m \u001b[38;5;124m\"\u001b[39m\u001b[38;5;124mwin32\u001b[39m\u001b[38;5;124m\"\u001b[39m:\n\u001b[1;32m--> 375\u001b[0m         \u001b[38;5;28;01mraise\u001b[39;00m \u001b[38;5;167;01mRuntimeError\u001b[39;00m(\u001b[38;5;124m\"\u001b[39m\u001b[38;5;124mWindows not yet supported for torch.compile\u001b[39m\u001b[38;5;124m\"\u001b[39m)\n\u001b[0;32m    376\u001b[0m     \u001b[38;5;28;01mif\u001b[39;00m sys\u001b[38;5;241m.\u001b[39mversion_info \u001b[38;5;241m>\u001b[39m\u001b[38;5;241m=\u001b[39m (\u001b[38;5;241m3\u001b[39m, \u001b[38;5;241m11\u001b[39m):\n\u001b[0;32m    377\u001b[0m         \u001b[38;5;28;01mraise\u001b[39;00m \u001b[38;5;167;01mRuntimeError\u001b[39;00m(\u001b[38;5;124m\"\u001b[39m\u001b[38;5;124mPython 3.11+ not yet supported for torch.compile\u001b[39m\u001b[38;5;124m\"\u001b[39m)\n",
      "\u001b[1;31mRuntimeError\u001b[0m: Windows not yet supported for torch.compile"
     ]
    }
   ],
   "source": [
    "def sin_func(x):\n",
    "    return torch.sin(x) + torch.cos(x)\n",
    "\n",
    "run_times = 100000\n",
    "i_data = torch.tensor(1).to(device)\n",
    "for mode in mode_list:\n",
    "    torch.cuda.synchronize()\n",
    "    time_0 = time.time()\n",
    "    module_compiled = torch.compile(sin_func, mode=mode)\n",
    "    torch.cuda.synchronize()\n",
    "    time_1 = time.time()\n",
    "    \n",
    "    # warmup\n",
    "    sin_func(i_data)\n",
    "    module_compiled(i_data)\n",
    "    \n",
    "    torch.cuda.synchronize()\n",
    "    time_2 = time.time()\n",
    "    for i in range(run_times):\n",
    "        sin_func(i_data)\n",
    "        \n",
    "    torch.cuda.synchronize()\n",
    "    time_3 = time.time()\n",
    "    for i in range(run_times):\n",
    "        module_compiled(i_data)\n",
    "    torch.cuda.synchronize()\n",
    "    time_4 = time.time()\n",
    "    \n",
    "    compile_time = time_1 - time_0\n",
    "    pre_time = time_3 - time_2\n",
    "    post_time = time_4 - time_3\n",
    "    speedup_ratio = (pre_time - post_time)/pre_time\n",
    "    \n",
    "    print(f\"mode: {mode}, 编译耗时:{compile_time:.2f}，编译前运行耗时:{pre_time:.2f}, 编译后运行耗时:{post_time:.2f}，速度提升比例:{speedup_ratio:.2%}\")\n",
    "    "
   ]
  },
  {
   "cell_type": "markdown",
   "metadata": {},
   "source": [
    "# 实验二：resnet18"
   ]
  },
  {
   "cell_type": "code",
   "execution_count": 4,
   "metadata": {},
   "outputs": [],
   "source": [
    "resnet18 = models.resnet18().to(device)\n",
    "resnet18.eval()\n",
    "fake_img = torch.randn(16, 3, 224, 224).to(device)"
   ]
  },
  {
   "cell_type": "code",
   "execution_count": 23,
   "metadata": {},
   "outputs": [
    {
     "name": "stdout",
     "output_type": "stream",
     "text": [
      "mode: default, 编译耗时:0.00，编译前运行耗时:0.90, 编译后运行耗时:0.69，速度提升比例:24.05%\n",
      "mode: reduce-overhead, 编译耗时:0.00，编译前运行耗时:1.03, 编译后运行耗时:1.05，速度提升比例:-1.87%\n",
      "mode: max-autotune, 编译耗时:0.00，编译前运行耗时:1.03, 编译后运行耗时:0.98，速度提升比例:5.29%\n"
     ]
    }
   ],
   "source": [
    "run_times = 100\n",
    "with torch.no_grad():\n",
    "    for mode in mode_list:\n",
    "        torch.cuda.synchronize()\n",
    "        time_0 = time.time()\n",
    "        module_compiled = torch.compile(resnet18, mode=mode)\n",
    "        torch.cuda.synchronize()\n",
    "        time_1 = time.time()\n",
    "        \n",
    "        # warmup 非常关键！\n",
    "        resnet18(fake_img)\n",
    "        module_compiled(fake_img)\n",
    "        \n",
    "        #\n",
    "        torch.cuda.synchronize()\n",
    "        time_2 = time.time()\n",
    "        for i in range(run_times):\n",
    "            resnet18(fake_img)\n",
    "        \n",
    "        torch.cuda.synchronize()\n",
    "        time_3 = time.time()\n",
    "        for i in range(run_times):\n",
    "            module_compiled(fake_img)\n",
    "        \n",
    "        torch.cuda.synchronize()\n",
    "        time_4 = time.time()\n",
    "\n",
    "        compile_time = time_1 - time_0\n",
    "        pre_time = time_3 - time_2\n",
    "        post_time = time_4 - time_3\n",
    "        speedup_ratio = (pre_time - post_time)/pre_time\n",
    "\n",
    "        print(f\"mode: {mode}, 编译耗时:{compile_time:.2f}，编译前运行耗时:{pre_time:.2f}, 编译后运行耗时:{post_time:.2f}，速度提升比例:{speedup_ratio:.2%}\")"
   ]
  },
  {
   "cell_type": "markdown",
   "metadata": {},
   "source": [
    "# 实验三：BERT"
   ]
  },
  {
   "cell_type": "code",
   "execution_count": 24,
   "metadata": {},
   "outputs": [],
   "source": [
    "from transformers import BertModel, BertTokenizer\n",
    "import time\n",
    "\n",
    "bert = BertModel.from_pretrained('bert-base-uncased')\n",
    "tokenizer = BertTokenizer.from_pretrained('bert-base-uncased')"
   ]
  },
  {
   "cell_type": "code",
   "execution_count": 26,
   "metadata": {},
   "outputs": [
    {
     "name": "stdout",
     "output_type": "stream",
     "text": [
      "mode: default, 编译耗时:0.00，编译前运行耗时:0.55, 编译后运行耗时:0.22，速度提升比例:60.65%\n",
      "mode: reduce-overhead, 编译耗时:0.00，编译前运行耗时:0.67, 编译后运行耗时:0.52，速度提升比例:22.55%\n",
      "mode: max-autotune, 编译耗时:0.00，编译前运行耗时:0.48, 编译后运行耗时:0.56，速度提升比例:-15.52%\n"
     ]
    }
   ],
   "source": [
    "# 准备一批输入数据\n",
    "input_text = \"Here is some text to encode\"\n",
    "inputs = tokenizer(input_text, return_tensors='pt', padding=True, truncation=True)\n",
    "inputs = {k: v.to(device) for k, v in inputs.items()}\n",
    "bert.to(device)\n",
    "bert.eval()\n",
    "\n",
    "run_times = 100\n",
    "with torch.no_grad():\n",
    "    for mode in mode_list:\n",
    "        \n",
    "        # 编译\n",
    "        torch.cuda.synchronize()\n",
    "        time_0 = time.time()\n",
    "        bert_compiled = torch.compile(bert, mode=mode)\n",
    "        torch.cuda.synchronize()\n",
    "        time_1 = time.time()\n",
    "        \n",
    "        # warmup 非常关键！\n",
    "        bert(**inputs)\n",
    "        bert_compiled(**inputs)\n",
    "\n",
    "        torch.cuda.synchronize()\n",
    "        time_2= time.time()\n",
    "        for _ in range(run_times): \n",
    "            _ = bert(**inputs)\n",
    "\n",
    "        torch.cuda.synchronize()\n",
    "        time_3= time.time()\n",
    "        for _ in range(run_times):\n",
    "            _ = bert_compiled(**inputs)\n",
    "        \n",
    "        torch.cuda.synchronize()\n",
    "        time_4= time.time()\n",
    "        \n",
    "        compile_time = time_1 - time_0\n",
    "        pre_time = time_3 - time_2\n",
    "        post_time = time_4 - time_3\n",
    "        speedup_ratio = (pre_time - post_time)/pre_time\n",
    "        \n",
    "        \n",
    "        print(f\"mode: {mode}, 编译耗时:{compile_time:.2f}，编译前运行耗时:{pre_time:.2f}, 编译后运行耗时:{post_time:.2f}，速度提升比例:{speedup_ratio:.2%}\")"
   ]
  },
  {
   "cell_type": "markdown",
   "metadata": {},
   "source": [
    "# 实验四 numpy"
   ]
  },
  {
   "cell_type": "code",
   "execution_count": 32,
   "metadata": {},
   "outputs": [
    {
     "name": "stdout",
     "output_type": "stream",
     "text": [
      "mode: default, 编译耗时:0.00，编译前运行耗时:87.93, 编译后运行耗时:6.19，速度提升比例:92.96%\n",
      "mode: reduce-overhead, 编译耗时:0.00，编译前运行耗时:87.21, 编译后运行耗时:6.22，速度提升比例:92.86%\n",
      "mode: max-autotune, 编译耗时:0.00，编译前运行耗时:86.77, 编译后运行耗时:5.98，速度提升比例:93.11%\n"
     ]
    }
   ],
   "source": [
    "run_times = 100\n",
    "\n",
    "def numpy_fn2(X: np.ndarray, Y: np.ndarray) -> np.ndarray:\n",
    "    return np.sum(X[:, :, None] * Y[:, None, :], axis=(-2, -1))\n",
    "\n",
    "def numpy_fn(X: np.ndarray, Y: np.ndarray) -> np.ndarray:\n",
    "    # Step 1: Normalize the input arrays to have zero mean and unit variance\n",
    "    X_mean, X_std = X.mean(axis=0), X.std(axis=0)\n",
    "    Y_mean, Y_std = Y.mean(axis=0), Y.std(axis=0)\n",
    "    \n",
    "    # Avoid division by zero in case of zero standard deviation\n",
    "    X_std[X_std == 0] = 1\n",
    "    Y_std[Y_std == 0] = 1\n",
    "    \n",
    "    X_normalized = (X - X_mean) / X_std\n",
    "    Y_normalized = (Y - Y_mean) / Y_std\n",
    "    \n",
    "    # Step 2: Perform the tensor product followed by sum over last two dimensions\n",
    "    intermediate_result = np.sum(X_normalized[:, :, None] * Y_normalized[:, None, :], axis=(-2, -1))\n",
    "    \n",
    "    # Step 3: Apply thresholding to clip values outside of [-1, 1]\n",
    "    intermediate_result = np.clip(intermediate_result, -1, 1)\n",
    "    \n",
    "    # Step 4: Apply exponential function for non-linearity\n",
    "    result = np.exp(intermediate_result)\n",
    "    \n",
    "    # Step 5: Add a small regularization term to avoid overfitting\n",
    "    regularization_term = 0.001 * np.sum(X_normalized ** 2 + Y_normalized ** 2, axis=1)\n",
    "    result += regularization_term\n",
    "    \n",
    "    return result\n",
    "\n",
    "x = np.random.randn(1024, 640)\n",
    "y = np.random.randn(1024, 640)\n",
    "\n",
    "for mode in mode_list:\n",
    "    torch.cuda.synchronize()\n",
    "    time_0 = time.time()\n",
    "    numpy_fn_compiled = torch.compile(numpy_fn, mode=mode)\n",
    "    torch.cuda.synchronize()\n",
    "    time_1 = time.time()\n",
    "\n",
    "    # warmup 非常关键！\n",
    "    numpy_fn(x, y)\n",
    "    numpy_fn_compiled(x, y)\n",
    "\n",
    "    #\n",
    "    torch.cuda.synchronize()\n",
    "    time_2 = time.time()\n",
    "    for i in range(run_times):\n",
    "        numpy_fn(x, y)\n",
    "\n",
    "    torch.cuda.synchronize()\n",
    "    time_3 = time.time()\n",
    "    for i in range(run_times):\n",
    "        numpy_fn_compiled(x, y)\n",
    "\n",
    "    torch.cuda.synchronize()\n",
    "    time_4 = time.time()\n",
    "\n",
    "    compile_time = time_1 - time_0\n",
    "    pre_time = time_3 - time_2\n",
    "    post_time = time_4 - time_3\n",
    "    speedup_ratio = (pre_time - post_time)/pre_time\n",
    "\n",
    "    print(f\"mode: {mode}, 编译耗时:{compile_time:.2f}，编译前运行耗时:{pre_time:.2f}, 编译后运行耗时:{post_time:.2f}，速度提升比例:{speedup_ratio:.2%}\")"
   ]
  },
  {
   "cell_type": "code",
   "execution_count": null,
   "metadata": {},
   "outputs": [],
   "source": []
  }
 ],
 "metadata": {
  "kernelspec": {
   "display_name": "d2l",
   "language": "python",
   "name": "d2l"
  },
  "language_info": {
   "codemirror_mode": {
    "name": "ipython",
    "version": 3
   },
   "file_extension": ".py",
   "mimetype": "text/x-python",
   "name": "python",
   "nbconvert_exporter": "python",
   "pygments_lexer": "ipython3",
   "version": "3.10.14"
  },
  "pycharm": {
   "stem_cell": {
    "cell_type": "raw",
    "metadata": {
     "collapsed": false
    },
    "source": []
   }
  }
 },
 "nbformat": 4,
 "nbformat_minor": 4
}

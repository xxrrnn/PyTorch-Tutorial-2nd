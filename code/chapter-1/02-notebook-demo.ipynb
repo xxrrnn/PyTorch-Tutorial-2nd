{
 "cells": [
  {
   "cell_type": "markdown",
   "metadata": {},
   "source": [
    "# 这里是Markdown单元格"
   ]
  },
  {
   "cell_type": "code",
   "execution_count": 1,
   "metadata": {
    "pycharm": {
     "is_executing": false
    }
   },
   "outputs": [
    {
     "name": "stdout",
     "output_type": "stream",
     "text": [
      "Hello World, Hello PyTorch 2.0.0+cu118\n",
      "\n",
      "CUDA is available:True, version is 11.8\n",
      "\n",
      "device_name: NVIDIA GeForce RTX 2050\n"
     ]
    }
   ],
   "source": [
    "import torch\n",
    "\n",
    "print(\"Hello World, Hello PyTorch {}\".format(torch.__version__))\n",
    "\n",
    "print(\"\\nCUDA is available:{}, version is {}\".format(torch.cuda.is_available(), torch.version.cuda))\n",
    "\n",
    "print(\"\\ndevice_name: {}\".format(torch.cuda.get_device_name(0)))"
   ]
  },
  {
   "cell_type": "markdown",
   "metadata": {},
   "source": [
    "# 两个神奇操作\n",
    "! 以及 %% 使用"
   ]
  },
  {
   "cell_type": "code",
   "execution_count": 1,
   "metadata": {
    "scrolled": true
   },
   "outputs": [
    {
     "name": "stdout",
     "output_type": "stream",
     "text": [
      "Sun Jul 28 13:15:41 2024       \n",
      "+-----------------------------------------------------------------------------------------+\n",
      "| NVIDIA-SMI 551.61                 Driver Version: 551.61         CUDA Version: 12.4     |\n",
      "|-----------------------------------------+------------------------+----------------------+\n",
      "| GPU  Name                     TCC/WDDM  | Bus-Id          Disp.A | Volatile Uncorr. ECC |\n",
      "| Fan  Temp   Perf          Pwr:Usage/Cap |           Memory-Usage | GPU-Util  Compute M. |\n",
      "|                                         |                        |               MIG M. |\n",
      "|=========================================+========================+======================|\n",
      "|   0  NVIDIA GeForce RTX 2050      WDDM  |   00000000:01:00.0 Off |                  N/A |\n",
      "| N/A   49C    P8              3W /   36W |     463MiB /   4096MiB |      0%      Default |\n",
      "|                                         |                        |                  N/A |\n",
      "+-----------------------------------------+------------------------+----------------------+\n",
      "                                                                                         \n",
      "+-----------------------------------------------------------------------------------------+\n",
      "| Processes:                                                                              |\n",
      "|  GPU   GI   CI        PID   Type   Process name                              GPU Memory |\n",
      "|        ID   ID                                                               Usage      |\n",
      "|=========================================================================================|\n",
      "|    0   N/A  N/A     10784    C+G   ...3\\extracted\\runtime\\WeChatAppEx.exe      N/A      |\n",
      "|    0   N/A  N/A     18088    C+G   E:\\apps\\Zotero7\\zotero.exe                  N/A      |\n",
      "|    0   N/A  N/A     29236    C+G   ...nt.CBS_cw5n1h2txyewy\\SearchHost.exe      N/A      |\n",
      "|    0   N/A  N/A     38136    C+G   ...t.LockApp_cw5n1h2txyewy\\LockApp.exe      N/A      |\n",
      "|    0   N/A  N/A     41572    C+G   ...ekyb3d8bbwe\\PhoneExperienceHost.exe      N/A      |\n",
      "|    0   N/A  N/A     41592    C+G   E:\\apps\\Zotero7\\zotero.exe                  N/A      |\n",
      "|    0   N/A  N/A     41756    C+G   ...ta\\Local\\Programs\\Notion\\Notion.exe      N/A      |\n",
      "|    0   N/A  N/A     42540    C+G   ...n\\126.0.2592.113\\msedgewebview2.exe      N/A      |\n",
      "|    0   N/A  N/A     43128    C+G   ...2txyewy\\StartMenuExperienceHost.exe      N/A      |\n",
      "|    0   N/A  N/A     60304    C+G   E:\\FeiShu\\app\\Feishu.exe                    N/A      |\n",
      "|    0   N/A  N/A     67848    C+G   ...tionsPlus\\logioptionsplus_agent.exe      N/A      |\n",
      "|    0   N/A  N/A     70140    C+G   ...voice\\logioptionsplus_logivoice.exe      N/A      |\n",
      "|    0   N/A  N/A     70324    C+G   E:\\Seafile\\bin\\seafile-applet.exe           N/A      |\n",
      "|    0   N/A  N/A     73240    C+G   ...CBS_cw5n1h2txyewy\\TextInputHost.exe      N/A      |\n",
      "|    0   N/A  N/A     79352    C+G   E:\\apps\\Microsoft VS Code\\Code.exe          N/A      |\n",
      "+-----------------------------------------------------------------------------------------+\n",
      "13:15\n",
      " 驱动器 D 中的卷是 Data\n",
      " 卷的序列号是 FCC0-93D6\n",
      "\n",
      " D:\\LearnCodes\\PyTorch-Tutorial-2nd\\code\\chapter-1 的目录\n",
      "\n",
      "2024/07/28  11:25    <DIR>          .\n",
      "2024/07/28  10:50    <DIR>          ..\n",
      "2024/07/28  11:15    <DIR>          .ipynb_checkpoints\n",
      "2024/07/28  10:50               419 01-hello-pytorch.py\n",
      "2024/07/28  11:25             4,963 02-notebook-demo.ipynb\n",
      "2024/07/28  10:50             6,220 03-torch-compile-performance.py\n",
      "2024/07/28  10:50            11,748 03-torch-compile.ipynb\n",
      "               4 个文件         23,350 字节\n",
      "               3 个目录 268,477,140,992 可用字节\n"
     ]
    }
   ],
   "source": [
    "!nvidia-smi\n",
    "!time /t\n",
    "!dir"
   ]
  },
  {
   "cell_type": "code",
   "execution_count": 4,
   "metadata": {},
   "outputs": [
    {
     "name": "stdout",
     "output_type": "stream",
     "text": [
      "988 ns ± 87 ns per loop (mean ± std. dev. of 7 runs, 1,000,000 loops each)\n"
     ]
    }
   ],
   "source": [
    "%%timeit\n",
    "a = []\n",
    "for i in range(10):\n",
    "    a.append(i)"
   ]
  },
  {
   "cell_type": "code",
   "execution_count": 5,
   "metadata": {},
   "outputs": [
    {
     "name": "stdout",
     "output_type": "stream",
     "text": [
      "CPU times: total: 46.9 ms\n",
      "Wall time: 170 ms\n"
     ]
    }
   ],
   "source": [
    "%%time\n",
    "a = []\n",
    "for i in range(1000000):\n",
    "    a.append(i)"
   ]
  }
 ],
 "metadata": {
  "kernelspec": {
   "display_name": "d2l",
   "language": "python",
   "name": "d2l"
  },
  "language_info": {
   "codemirror_mode": {
    "name": "ipython",
    "version": 3
   },
   "file_extension": ".py",
   "mimetype": "text/x-python",
   "name": "python",
   "nbconvert_exporter": "python",
   "pygments_lexer": "ipython3",
   "version": "3.10.14"
  },
  "pycharm": {
   "stem_cell": {
    "cell_type": "raw",
    "metadata": {
     "collapsed": false
    },
    "source": []
   }
  }
 },
 "nbformat": 4,
 "nbformat_minor": 4
}
